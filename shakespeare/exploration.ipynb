{
 "cells": [
  {
   "cell_type": "code",
   "execution_count": 1,
   "metadata": {},
   "outputs": [
    {
     "name": "stdout",
     "output_type": "stream",
     "text": [
      "\n",
      " !$&',-.3:;?ABCDEFGHIJKLMNOPQRSTUVWXYZabcdefghijklmnopqrstuvwxyz\n",
      "65\n"
     ]
    }
   ],
   "source": [
    "# Conducting initial exploration of the dataset given by Tiny Shakespeare\n",
    "with open('input.txt', 'r', encoding='utf-8') as f:\n",
    "    text = f.read()\n",
    "\n",
    "#create a list of all the unique characters that appear in the text\n",
    "chars = sorted(list(set(text)))\n",
    "vocab_size = len(chars)\n",
    "print(''.join(chars))\n",
    "print(vocab_size)"
   ]
  },
  {
   "cell_type": "code",
   "execution_count": 2,
   "metadata": {},
   "outputs": [],
   "source": [
    "#Next we want to tokenize the input i.e. Convert the characters into integers\n",
    "#Create a mapping for characters to integers\n",
    "s_to_i = { ch:i for i,ch in enumerate(chars) }\n",
    "i_to_s = { i:ch for i,ch in enumerate(chars) }\n",
    "encode = lambda s: [s_to_i[c] for c in s] #encoder: receive a string, ouput a list of integers\n",
    "decode = lambda l: ''.join([i_to_s[i] for i in l]) #decoder: receive a list of integers, return a string\n",
    "\n",
    "#we use this to encode the entire text dataset and store it into a torch.Tensor\n",
    "import torch\n",
    "data = torch.tensor(encode(text), dtype=torch.long)\n",
    "\n",
    "#split the data into train and validation sets (90-10 split)\n",
    "n = int(0.9 * len(data))\n",
    "train_data = data[:n]\n",
    "val_data = data[n:]"
   ]
  },
  {
   "cell_type": "code",
   "execution_count": 10,
   "metadata": {},
   "outputs": [],
   "source": [
    "torch.manual_seed(1337)\n",
    "#define a block size to use i.e. Max content length\n",
    "block_size = 8\n",
    "#define a batch dimension i.e. Number of independent sequences processed in parallel\n",
    "batch_size = 4\n",
    "\n",
    "def get_batch(split):\n",
    "    #generate a small batch of data of inputs x and targets y\n",
    "    data = train_data if split == 'train' else val_data\n",
    "    #generates random offsets to find subsets of the data\n",
    "    ix = torch.randint(len(data) - block_size, (batch_size,))\n",
    "    x = torch.stack([data[i:i+block_size] for i in ix])\n",
    "    #y represents the target values, as they are the x subsets offset by 1\n",
    "    y = torch.stack([data[i+1:i+block_size+1] for i in ix])\n",
    "    return x, y"
   ]
  },
  {
   "cell_type": "code",
   "execution_count": 15,
   "metadata": {},
   "outputs": [
    {
     "name": "stdout",
     "output_type": "stream",
     "text": [
      "inputs:\n",
      "torch.Size([4, 8])\n",
      "tensor([[ 6,  0, 21, 44,  1, 61, 43,  1],\n",
      "        [58, 52, 43, 57, 57,  2,  1, 57],\n",
      "        [ 1, 59, 52, 39, 41, 46, 47, 52],\n",
      "        [43, 42, 50, 39, 56,  6,  1, 50]])\n",
      "targets:\n",
      "torch.Size([4, 8])\n",
      "tensor([[ 0, 21, 44,  1, 61, 43,  1, 61],\n",
      "        [52, 43, 57, 57,  2,  1, 57, 43],\n",
      "        [59, 52, 39, 41, 46, 47, 52, 45],\n",
      "        [42, 50, 39, 56,  6,  1, 50, 43]])\n",
      "----\n",
      "When input is [6] the target: 0\n",
      "When input is [6, 0] the target: 21\n",
      "When input is [6, 0, 21] the target: 44\n",
      "When input is [6, 0, 21, 44] the target: 1\n",
      "When input is [6, 0, 21, 44, 1] the target: 61\n",
      "When input is [6, 0, 21, 44, 1, 61] the target: 43\n",
      "When input is [6, 0, 21, 44, 1, 61, 43] the target: 1\n",
      "When input is [6, 0, 21, 44, 1, 61, 43, 1] the target: 61\n",
      "When input is [58] the target: 52\n",
      "When input is [58, 52] the target: 43\n",
      "When input is [58, 52, 43] the target: 57\n",
      "When input is [58, 52, 43, 57] the target: 57\n",
      "When input is [58, 52, 43, 57, 57] the target: 2\n",
      "When input is [58, 52, 43, 57, 57, 2] the target: 1\n",
      "When input is [58, 52, 43, 57, 57, 2, 1] the target: 57\n",
      "When input is [58, 52, 43, 57, 57, 2, 1, 57] the target: 43\n",
      "When input is [1] the target: 59\n",
      "When input is [1, 59] the target: 52\n",
      "When input is [1, 59, 52] the target: 39\n",
      "When input is [1, 59, 52, 39] the target: 41\n",
      "When input is [1, 59, 52, 39, 41] the target: 46\n",
      "When input is [1, 59, 52, 39, 41, 46] the target: 47\n",
      "When input is [1, 59, 52, 39, 41, 46, 47] the target: 52\n",
      "When input is [1, 59, 52, 39, 41, 46, 47, 52] the target: 45\n",
      "When input is [43] the target: 42\n",
      "When input is [43, 42] the target: 50\n",
      "When input is [43, 42, 50] the target: 39\n",
      "When input is [43, 42, 50, 39] the target: 56\n",
      "When input is [43, 42, 50, 39, 56] the target: 6\n",
      "When input is [43, 42, 50, 39, 56, 6] the target: 1\n",
      "When input is [43, 42, 50, 39, 56, 6, 1] the target: 50\n",
      "When input is [43, 42, 50, 39, 56, 6, 1, 50] the target: 43\n"
     ]
    }
   ],
   "source": [
    "#to visualise the get_batch function and the independant examples\n",
    "xb, yb = get_batch('train')\n",
    "print('inputs:')\n",
    "print(xb.shape)\n",
    "print(xb)\n",
    "print('targets:')\n",
    "print(yb.shape)\n",
    "print(yb)\n",
    "\n",
    "print('----')\n",
    "\n",
    "for b in range(batch_size):\n",
    "    for t in range(block_size):\n",
    "        context = xb[b, :t+1]\n",
    "        target = yb[b, t]\n",
    "        print(f\"When input is {context.tolist()} the target: {target}\")"
   ]
  },
  {
   "cell_type": "code",
   "execution_count": 25,
   "metadata": {},
   "outputs": [
    {
     "name": "stdout",
     "output_type": "stream",
     "text": [
      "torch.Size([32, 65])\n",
      "tensor(4.7051, grad_fn=<NllLossBackward0>)\n",
      "\n",
      "Sr?qP-QWktXoL&jLDJgOLVz'RIoDqHdhsV&vLLxatjscMpwLERSPyao.qfzs$Ys$zF-w,;eEkzxjgCKFChs!iWW.ObzDnxA Ms$3\n"
     ]
    }
   ],
   "source": [
    "#we will try feeding this data into a Bigram language model, the simplest of language neural networks\n",
    "import torch\n",
    "import torch.nn as nn\n",
    "from torch.nn import functional as F\n",
    "torch.manual_seed(1337)\n",
    "\n",
    "class BigramLanguageModel(nn.Module):\n",
    "\n",
    "    def __init__(self, vocab_size):\n",
    "        super().__init__()\n",
    "        #each token directly reads off the logits for the next token from a lookup table\n",
    "        self.token_embedding_table = nn.Embedding(vocab_size, vocab_size)\n",
    "\n",
    "    #using this method, we are predicting the next character based on a single token (no context)\n",
    "    def forward(self, idx, targets=None):\n",
    "        #idx and targets are both (B,T) tensor of integers\n",
    "        logits = self.token_embedding_table(idx) #(B,T,C)\n",
    "        #logits are the scores for the next character in the sequence\n",
    "\n",
    "        if targets is None:\n",
    "            loss = None\n",
    "        else:\n",
    "            #reshape logits to find loss\n",
    "            B, T, C = logits.shape\n",
    "            logits = logits.view(B*T, C)\n",
    "            targets = targets.view(B*T)\n",
    "            #evaluate the loss of each character using negative log likelihood\n",
    "            loss = F.cross_entropy(logits, targets)\n",
    "\n",
    "        return logits, loss\n",
    "    \n",
    "    def generate(self, idx, max_new_tokens):\n",
    "        #idx is (B, T) array of indices in the current context\n",
    "        for _ in range(max_new_tokens):\n",
    "            #get the predictions\n",
    "            logits, loss = self(idx)\n",
    "            #focus only on the last time step\n",
    "            logits = logits[:, -1, :] #becomes (B, C), as we are only focusing on the last character in the block\n",
    "            #apply softmax to get probabilities\n",
    "            probs = F.softmax(logits, dim=1) #(B,C)\n",
    "            #get the best sample from the probability distribution\n",
    "            idx_next = torch.multinomial(probs, num_samples=1) #(B,1)\n",
    "            #append sampled index to the running sequence\n",
    "            idx = torch.cat((idx, idx_next), dim=1) #(B,T+1)\n",
    "        return idx\n",
    "\n",
    "m = BigramLanguageModel(vocab_size)\n",
    "logits, loss = m(xb, yb)\n",
    "#now we have scores for each character in the dataset above, for each character in the vocabularyj\n",
    "print(logits.shape)\n",
    "print(loss)\n",
    "\n",
    "#test the generation\n",
    "#in our data, 0 represents a newline, so we start the generation with a 0\n",
    "print(decode(m.generate(torch.zeros((1, 1), dtype=torch.long), max_new_tokens=100)[0].tolist()))"
   ]
  }
 ],
 "metadata": {
  "kernelspec": {
   "display_name": "venv",
   "language": "python",
   "name": "venv"
  },
  "language_info": {
   "codemirror_mode": {
    "name": "ipython",
    "version": 3
   },
   "file_extension": ".py",
   "mimetype": "text/x-python",
   "name": "python",
   "nbconvert_exporter": "python",
   "pygments_lexer": "ipython3",
   "version": "3.10.12"
  }
 },
 "nbformat": 4,
 "nbformat_minor": 2
}
